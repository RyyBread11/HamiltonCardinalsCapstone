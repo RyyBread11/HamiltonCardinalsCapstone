{
 "cells": [
  {
   "cell_type": "code",
   "execution_count": 1,
   "metadata": {},
   "outputs": [],
   "source": [
    "#Tool to calculate projectile motion of batter based on IBL field factors\n",
    "#Will allow team to determine which hitters are ideal for which field\n",
    "#Model Assumptions g= 9.81m/s^2, avg. height 6foot, Ideal Angle (45 degrees)\n",
    "#Modified Projectile Formula - R = V^2 Sin2θ / g\n",
    "\n",
    "#import\n",
    "import math as mt\n",
    "import pandas as pd"
   ]
  },
  {
   "cell_type": "code",
   "execution_count": 2,
   "metadata": {},
   "outputs": [],
   "source": [
    "#Variables\n",
    "# Acceleration of gravity acting on ball\n",
    "g = 9.81\n",
    "#Launch Angle from Bat\n",
    "y = 45\n",
    "#Feet to Meters Conversion (1ft = 0.3048m)\n",
    "c = 0.3048\n",
    "#MLB average ball exit velocity from bat (1 mp/h = 0.44704 m/s)\n",
    "v = 87*0.44704"
   ]
  },
  {
   "cell_type": "code",
   "execution_count": 3,
   "metadata": {},
   "outputs": [],
   "source": [
    "#Park Factors\n",
    "\n",
    "#Barrie Red Sox\n",
    "BarrieRed_Left = 300*c\n",
    "BarrieRed_Center = 390*c\n",
    "BarrieRed_Right = 320*c\n",
    "\n",
    "#Barrie Baycats\n",
    "Barriebay_Left = 325*c\n",
    "Barriebay_Center = 405*c\n",
    "Barriebay_Right = 325*c\n",
    "\n",
    "#Guelph Royals\n",
    "Guelph_Left = 325*c\n",
    "Guelph_Center = 369*c\n",
    "Guelph_Right = 325*c\n",
    "\n",
    "#Hamilton Cardinals\n",
    "Ham_Left = 300*c\n",
    "Ham_Center = 405*c\n",
    "Ham_Right = 325*c\n",
    "\n",
    "#Kitchener Panthers\n",
    "Kit_Left = 325*c\n",
    "Kit_Center = 380*c\n",
    "Kit_Right = 325*c\n",
    "\n",
    "#London Majors\n",
    "Lon_Left = 330*c\n",
    "Lon_Center = 402*c\n",
    "Lon_Right = 330*c\n",
    "\n",
    "#Toronto Maple Leafs\n",
    "To_Left = 299*c\n",
    "To_Center = 330*c\n",
    "To_Right = 299*c\n",
    "\n",
    "#Welland Jackfish\n",
    "Well_Left = 335*c\n",
    "Well_Center = 400*c\n",
    "Well_Right = 335*c"
   ]
  },
  {
   "cell_type": "code",
   "execution_count": 4,
   "metadata": {},
   "outputs": [],
   "source": [
    "#Computation by Field Factors\n",
    "\n",
    "#Barrie Red Sox\n",
    "a1 = mt.sqrt((BarrieRed_Left*g)/mt.sin(2*y))\n",
    "a2 = mt.sqrt((BarrieRed_Center*g)/mt.sin(2*y))\n",
    "a3 = mt.sqrt((BarrieRed_Right*g)/mt.sin(2*y))\n",
    "\n",
    "#Barrie Baycats\n",
    "b1 = mt.sqrt((Barriebay_Left*g)/mt.sin(2*y))\n",
    "b2 = mt.sqrt((Barriebay_Center*g)/mt.sin(2*y))\n",
    "b3 = mt.sqrt((Barriebay_Right*g)/mt.sin(2*y))\n",
    "\n",
    "#Guelph Royals\n",
    "c1 = mt.sqrt((Guelph_Left*g)/mt.sin(2*y))\n",
    "c2 = mt.sqrt((Guelph_Center*g)/mt.sin(2*y))\n",
    "c3 = mt.sqrt((Guelph_Right*g)/mt.sin(2*y))\n",
    "\n",
    "#Hamilton Cardinals\n",
    "d1 = mt.sqrt((Ham_Left*g)/mt.sin(2*y))\n",
    "d2 = mt.sqrt((Ham_Center*g)/mt.sin(2*y))\n",
    "d3 = mt.sqrt((Ham_Right*g)/mt.sin(2*y))\n",
    "\n",
    "#Kitchener Panthers\n",
    "e1 = mt.sqrt((Kit_Left*g)/mt.sin(2*y))\n",
    "e2 = mt.sqrt((Kit_Center*g)/mt.sin(2*y))\n",
    "e3 = mt.sqrt((Kit_Right*g)/mt.sin(2*y))\n",
    "\n",
    "#London Majors\n",
    "f1 = mt.sqrt((Lon_Left*g)/mt.sin(2*y))\n",
    "f2 = mt.sqrt((Lon_Center*g)/mt.sin(2*y))\n",
    "f3 = mt.sqrt((Lon_Right*g)/mt.sin(2*y))\n",
    "\n",
    "#Toronto Maple Leafs\n",
    "g1 = mt.sqrt((To_Left*g)/mt.sin(2*y))\n",
    "g2 = mt.sqrt((To_Center*g)/mt.sin(2*y))\n",
    "g3 = mt.sqrt((To_Right*g)/mt.sin(2*y))\n",
    "\n",
    "#Welland Jackfish\n",
    "h1 = mt.sqrt((Well_Left*g)/mt.sin(2*y))\n",
    "h2 = mt.sqrt((Well_Center*g)/mt.sin(2*y))\n",
    "h3 = mt.sqrt((Well_Right*g)/mt.sin(2*y))"
   ]
  },
  {
   "cell_type": "code",
   "execution_count": 5,
   "metadata": {},
   "outputs": [],
   "source": [
    "#Data Frame\n",
    "Data = [['Barrie Red Sox', a1, a2, a3],['Barrie Baycats', b1, b2, b3], ['Guelph Royal', c1, c2, c3],['Hamilton Cardinals', d1, d2, d3],['Kitchener Panther', e1, e2, e3], ['London Majors', f1, f2, f3], ['Toronto Maple Leafs', g1, g2, g3], ['Welland Jackfish', h1, h2, h3 ] ]\n",
    "df = pd.DataFrame(Data, columns =['Team', 'Right Field Minimun Velocity (m/s)', 'Center Field Minimum Velocity (m/s)', 'Left Field Minimum Velocity (m/s)'])"
   ]
  },
  {
   "cell_type": "code",
   "execution_count": 7,
   "metadata": {},
   "outputs": [
    {
     "name": "stdout",
     "output_type": "stream",
     "text": [
      "                  Team  Right Field Minimun Velocity (m/s)  \\\n",
      "0       Barrie Red Sox                           31.676316   \n",
      "1       Barrie Baycats                           32.969755   \n",
      "2         Guelph Royal                           32.969755   \n",
      "3   Hamilton Cardinals                           31.676316   \n",
      "4    Kitchener Panther                           32.969755   \n",
      "5        London Majors                           33.222400   \n",
      "6  Toronto Maple Leafs                           31.623478   \n",
      "7     Welland Jackfish                           33.473139   \n",
      "\n",
      "   Center Field Minimum Velocity (m/s)  Left Field Minimum Velocity (m/s)  \n",
      "0                            36.116557                          32.715158  \n",
      "1                            36.804553                          32.969755  \n",
      "2                            35.130734                          32.969755  \n",
      "3                            36.804553                          32.969755  \n",
      "4                            35.650517                          32.969755  \n",
      "5                            36.667986                          33.222400  \n",
      "6                            33.222400                          31.623478  \n",
      "7                            36.576659                          33.473139  \n"
     ]
    }
   ],
   "source": [
    "#Export csv\n",
    "#df.to_csv('Velocity_Needed_OutPark.csv', sep=',', index=False)\n",
    "print(df)"
   ]
  }
 ],
 "metadata": {
  "kernelspec": {
   "display_name": "Python 3",
   "language": "python",
   "name": "python3"
  },
  "language_info": {
   "codemirror_mode": {
    "name": "ipython",
    "version": 3
   },
   "file_extension": ".py",
   "mimetype": "text/x-python",
   "name": "python",
   "nbconvert_exporter": "python",
   "pygments_lexer": "ipython3",
   "version": "3.11.5"
  }
 },
 "nbformat": 4,
 "nbformat_minor": 2
}
